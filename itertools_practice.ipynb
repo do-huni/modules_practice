{
  "nbformat": 4,
  "nbformat_minor": 0,
  "metadata": {
    "colab": {
      "provenance": [],
      "authorship_tag": "ABX9TyNoZorCpOGBQ6eqq22ytcMR",
      "include_colab_link": true
    },
    "kernelspec": {
      "name": "python3",
      "display_name": "Python 3"
    },
    "language_info": {
      "name": "python"
    }
  },
  "cells": [
    {
      "cell_type": "markdown",
      "metadata": {
        "id": "view-in-github",
        "colab_type": "text"
      },
      "source": [
        "<a href=\"https://colab.research.google.com/github/orangNLP/Modules_practice/blob/main/itertools_practice.ipynb\" target=\"_parent\"><img src=\"https://colab.research.google.com/assets/colab-badge.svg\" alt=\"Open In Colab\"/></a>"
      ]
    },
    {
      "cell_type": "code",
      "execution_count": null,
      "metadata": {
        "colab": {
          "base_uri": "https://localhost:8080/"
        },
        "id": "73v7Qkc_DiFH",
        "outputId": "42fed77d-eea7-4d74-d271-893fd9018d01"
      },
      "outputs": [
        {
          "output_type": "stream",
          "name": "stdout",
          "text": [
            "(1, 1)\n",
            "(1, 2)\n",
            "(1, 3)\n",
            "(1, 4)\n",
            "(1, 5)\n",
            "(1, 6)\n",
            "(2, 2)\n",
            "(2, 3)\n",
            "(2, 4)\n",
            "(2, 5)\n",
            "(2, 6)\n",
            "(3, 3)\n",
            "(3, 4)\n",
            "(3, 5)\n",
            "(3, 6)\n",
            "(4, 4)\n",
            "(4, 5)\n",
            "(4, 6)\n",
            "(5, 5)\n",
            "(5, 6)\n",
            "(6, 6)\n",
            "count: 21\n"
          ]
        }
      ],
      "source": [
        "import itertools\n",
        "#itertools의 output은 iterable, len함수 등 사용 불가\n",
        "lst = [1,2,3,4,5,6]"
      ]
    },
    {
      "cell_type": "code",
      "source": [
        "#combinations(iterable, r) : iterable에서 원소 개수가 r개인 조합 뽑기(조합 nCr)\n",
        "count = 0\n",
        "for i in itertools.combinations(lst,5):\n",
        "  count += 1\n",
        "  print(i)\n",
        "print('count:', count)"
      ],
      "metadata": {
        "colab": {
          "base_uri": "https://localhost:8080/"
        },
        "id": "5yhuFGLgsdtl",
        "outputId": "f5b50f32-7d09-4d8d-e9fc-9eca522e246c"
      },
      "execution_count": null,
      "outputs": [
        {
          "output_type": "stream",
          "name": "stdout",
          "text": [
            "(1, 2, 3, 4, 5)\n",
            "(1, 2, 3, 4, 6)\n",
            "(1, 2, 3, 5, 6)\n",
            "(1, 2, 4, 5, 6)\n",
            "(1, 3, 4, 5, 6)\n",
            "(2, 3, 4, 5, 6)\n",
            "count: 6\n"
          ]
        }
      ]
    },
    {
      "cell_type": "code",
      "source": [
        "#combinations_with_replacement(iterable,r) : iterable에서 원소 개수가 r개인 중복 경우의 수 뽑기\n",
        "count = 0\n",
        "for i in itertools.combinations_with_replacement(lst,2):\n",
        "  count += 1\n",
        "  print(i)\n",
        "print('count:', count)"
      ],
      "metadata": {
        "colab": {
          "base_uri": "https://localhost:8080/"
        },
        "id": "sfTSeXkzsmuA",
        "outputId": "e82106a4-7459-41e6-98ba-94b4565e8715"
      },
      "execution_count": null,
      "outputs": [
        {
          "output_type": "stream",
          "name": "stdout",
          "text": [
            "(1, 1)\n",
            "(1, 2)\n",
            "(1, 3)\n",
            "(1, 4)\n",
            "(1, 5)\n",
            "(1, 6)\n",
            "(2, 2)\n",
            "(2, 3)\n",
            "(2, 4)\n",
            "(2, 5)\n",
            "(2, 6)\n",
            "(3, 3)\n",
            "(3, 4)\n",
            "(3, 5)\n",
            "(3, 6)\n",
            "(4, 4)\n",
            "(4, 5)\n",
            "(4, 6)\n",
            "(5, 5)\n",
            "(5, 6)\n",
            "(6, 6)\n",
            "count: 21\n"
          ]
        }
      ]
    },
    {
      "cell_type": "code",
      "source": [
        "#permutations(iterable, r=None) : iterable에서 원소 개수가 r개인 순열 뽑기(순열 nPr)(r을 지정하지 않을경우 n!)\n",
        "count = 0\n",
        "for i in itertools.permutations(lst, r=2):\n",
        "  count += 1\n",
        "  print(i)\n",
        "print('count:', count)"
      ],
      "metadata": {
        "colab": {
          "base_uri": "https://localhost:8080/"
        },
        "id": "LVu6IsBrsiIh",
        "outputId": "39ef8a8d-ac17-4270-c1a2-7c31cd870c93"
      },
      "execution_count": null,
      "outputs": [
        {
          "output_type": "stream",
          "name": "stdout",
          "text": [
            "(1, 2)\n",
            "(1, 3)\n",
            "(1, 4)\n",
            "(1, 5)\n",
            "(1, 6)\n",
            "(2, 1)\n",
            "(2, 3)\n",
            "(2, 4)\n",
            "(2, 5)\n",
            "(2, 6)\n",
            "(3, 1)\n",
            "(3, 2)\n",
            "(3, 4)\n",
            "(3, 5)\n",
            "(3, 6)\n",
            "(4, 1)\n",
            "(4, 2)\n",
            "(4, 3)\n",
            "(4, 5)\n",
            "(4, 6)\n",
            "(5, 1)\n",
            "(5, 2)\n",
            "(5, 3)\n",
            "(5, 4)\n",
            "(5, 6)\n",
            "(6, 1)\n",
            "(6, 2)\n",
            "(6, 3)\n",
            "(6, 4)\n",
            "(6, 5)\n",
            "count: 30\n"
          ]
        }
      ]
    },
    {
      "cell_type": "code",
      "source": [
        "#product(*iterables, repeat=1) : 여러 iterable의 데카르트곱 리턴\n",
        "count = 0\n",
        "for i in itertools.product(lst, repeat = 2):\n",
        "  count += 1\n",
        "  print(i)\n",
        "print('count:', count)\n",
        "count = 0\n",
        "lst1 = ['A', 'B', 'C']\n",
        "lst2 = [1,2,3]\n",
        "for i in itertools.product(lst1,lst2):\n",
        "  count += 1\n",
        "  print(i)\n",
        "print('count:', count)"
      ],
      "metadata": {
        "colab": {
          "base_uri": "https://localhost:8080/"
        },
        "id": "M3x9_8dCs6P_",
        "outputId": "8c61fd56-f49f-405a-8a5c-72f8c24df4e5"
      },
      "execution_count": null,
      "outputs": [
        {
          "output_type": "stream",
          "name": "stdout",
          "text": [
            "(1, 1)\n",
            "(1, 2)\n",
            "(1, 3)\n",
            "(1, 4)\n",
            "(1, 5)\n",
            "(1, 6)\n",
            "(2, 1)\n",
            "(2, 2)\n",
            "(2, 3)\n",
            "(2, 4)\n",
            "(2, 5)\n",
            "(2, 6)\n",
            "(3, 1)\n",
            "(3, 2)\n",
            "(3, 3)\n",
            "(3, 4)\n",
            "(3, 5)\n",
            "(3, 6)\n",
            "(4, 1)\n",
            "(4, 2)\n",
            "(4, 3)\n",
            "(4, 4)\n",
            "(4, 5)\n",
            "(4, 6)\n",
            "(5, 1)\n",
            "(5, 2)\n",
            "(5, 3)\n",
            "(5, 4)\n",
            "(5, 5)\n",
            "(5, 6)\n",
            "(6, 1)\n",
            "(6, 2)\n",
            "(6, 3)\n",
            "(6, 4)\n",
            "(6, 5)\n",
            "(6, 6)\n",
            "count: 36\n",
            "('A', 1)\n",
            "('A', 2)\n",
            "('A', 3)\n",
            "('B', 1)\n",
            "('B', 2)\n",
            "('B', 3)\n",
            "('C', 1)\n",
            "('C', 2)\n",
            "('C', 3)\n",
            "count: 9\n"
          ]
        }
      ]
    }
  ]
}