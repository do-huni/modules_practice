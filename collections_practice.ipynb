{
  "nbformat": 4,
  "nbformat_minor": 0,
  "metadata": {
    "colab": {
      "provenance": [],
      "authorship_tag": "ABX9TyON5k/VVetmMQRdBwmnUpG8",
      "include_colab_link": true
    },
    "kernelspec": {
      "name": "python3",
      "display_name": "Python 3"
    },
    "language_info": {
      "name": "python"
    }
  },
  "cells": [
    {
      "cell_type": "markdown",
      "metadata": {
        "id": "view-in-github",
        "colab_type": "text"
      },
      "source": [
        "<a href=\"https://colab.research.google.com/github/orangNLP/Modules_practice/blob/main/collections_practice.ipynb\" target=\"_parent\"><img src=\"https://colab.research.google.com/assets/colab-badge.svg\" alt=\"Open In Colab\"/></a>"
      ]
    },
    {
      "cell_type": "code",
      "execution_count": null,
      "metadata": {
        "id": "F_XTSqKKxfiX"
      },
      "outputs": [],
      "source": [
        "import collections"
      ]
    },
    {
      "cell_type": "markdown",
      "source": [
        "## **deque module**\n",
        "\n",
        "---\n",
        "\n"
      ],
      "metadata": {
        "id": "RD-clEf-7vi4"
      }
    },
    {
      "cell_type": "code",
      "source": [
        "#deque module\n",
        "deque_list = collections.deque()\n",
        "for i in range(6):\n",
        "  deque_list.append(i)\n",
        "print(deque_list)"
      ],
      "metadata": {
        "colab": {
          "base_uri": "https://localhost:8080/"
        },
        "id": "N1KmdilxysSE",
        "outputId": "a0152716-57cc-4f8b-a26a-2c1d99fdb556"
      },
      "execution_count": null,
      "outputs": [
        {
          "output_type": "stream",
          "name": "stdout",
          "text": [
            "deque([0, 1, 2, 3, 4, 5])\n"
          ]
        }
      ]
    },
    {
      "cell_type": "code",
      "source": [
        "print(deque_list.pop()) #.pop(No Argument!!) -> LIFO(Last In First Out) -> 'stack' data structure\n",
        "print(deque_list)"
      ],
      "metadata": {
        "colab": {
          "base_uri": "https://localhost:8080/"
        },
        "id": "C1UdyF-_zjYn",
        "outputId": "64df625d-c029-4ffd-ac96-7ab757ea92be"
      },
      "execution_count": null,
      "outputs": [
        {
          "output_type": "stream",
          "name": "stdout",
          "text": [
            "5\n",
            "deque([0, 1, 2, 3, 4])\n"
          ]
        }
      ]
    },
    {
      "cell_type": "code",
      "source": [
        "deque_list.appendleft(2) #How the 'que' DS input data\n",
        "print(deque_list)"
      ],
      "metadata": {
        "colab": {
          "base_uri": "https://localhost:8080/"
        },
        "id": "NUTOfUpwz91p",
        "outputId": "62f4bb5a-fe38-474c-f138-c45fbd921233"
      },
      "execution_count": null,
      "outputs": [
        {
          "output_type": "stream",
          "name": "stdout",
          "text": [
            "deque([2, 0, 1, 2, 3, 4])\n"
          ]
        }
      ]
    },
    {
      "cell_type": "code",
      "source": [
        "#deque also provide the 'extend' method\n",
        "deque_list.extend(['Hello','\\t','world','!'])\n",
        "print(deque_list)"
      ],
      "metadata": {
        "colab": {
          "base_uri": "https://localhost:8080/"
        },
        "id": "hm1kC9Tf1Dui",
        "outputId": "5534ac6e-1e4b-4032-96da-e4ebfdd38860"
      },
      "execution_count": null,
      "outputs": [
        {
          "output_type": "stream",
          "name": "stdout",
          "text": [
            "deque([2, 0, 1, 2, 3, 4, 'Hello', '\\t', 'world', '!'])\n"
          ]
        }
      ]
    },
    {
      "cell_type": "code",
      "source": [
        "#show the traits of linked list!\n",
        "deque_list.rotate(2) #if value < 0, rotate to the left side\n",
        "print(\"rotate method:\", '\\n', deque_list, '\\n')\n",
        "\n",
        "deque_list.reverse()\n",
        "print(\"reverse method:\", \"\\n\", deque_list)"
      ],
      "metadata": {
        "colab": {
          "base_uri": "https://localhost:8080/"
        },
        "id": "keathgHL5_ve",
        "outputId": "8a3aa277-015b-4702-950e-87460b7678d4"
      },
      "execution_count": null,
      "outputs": [
        {
          "output_type": "stream",
          "name": "stdout",
          "text": [
            "rotate method: \n",
            " deque(['world', '!', 2, 0, 1, 2, 3, 4, 'Hello', '\\t']) \n",
            "\n",
            "reverse method: \n",
            " deque(['\\t', 'Hello', 4, 3, 2, 1, 0, 2, '!', 'world'])\n"
          ]
        }
      ]
    },
    {
      "cell_type": "markdown",
      "source": [
        "## **OrderedDict module**\n",
        "\n",
        "---\n",
        "\n"
      ],
      "metadata": {
        "id": "EKdgxCpB71D1"
      }
    },
    {
      "cell_type": "code",
      "source": [
        "or_di = collections.OrderedDict() #입력하는 순서대로 딕셔너리에 저장\n",
        "or_di['1'] = 'a'\n",
        "or_di['2'] = 'b'\n",
        "or_di['3'] = 'c'\n",
        "or_di['4'] = 'f'\n",
        "print(or_di)"
      ],
      "metadata": {
        "colab": {
          "base_uri": "https://localhost:8080/"
        },
        "id": "-mGnhcPh6jIs",
        "outputId": "fb4843a4-dd12-4760-b626-fdde80daa6bc"
      },
      "execution_count": null,
      "outputs": [
        {
          "output_type": "stream",
          "name": "stdout",
          "text": [
            "OrderedDict([('1', 'a'), ('2', 'b'), ('3', 'c'), ('4', 'f')])\n"
          ]
        }
      ]
    },
    {
      "cell_type": "markdown",
      "source": [
        "## **defaultdict module**\n",
        "\n",
        "\n",
        "---\n",
        "\n"
      ],
      "metadata": {
        "id": "VYOTMHKvADig"
      }
    },
    {
      "cell_type": "code",
      "source": [
        "de_di = collections.defaultdict(lambda : 0) #lambda를 통해 초기 value 값 설정\n",
        "de_di[1], de_di[2] #value 값을 자동으로 초기화\n",
        "de_di"
      ],
      "metadata": {
        "colab": {
          "base_uri": "https://localhost:8080/"
        },
        "id": "6OfAejg7APAL",
        "outputId": "f3597060-eeab-4978-9bc5-67b29a56ceac"
      },
      "execution_count": null,
      "outputs": [
        {
          "output_type": "execute_result",
          "data": {
            "text/plain": [
              "defaultdict(<function __main__.<lambda>()>, {1: 0, 2: 0})"
            ]
          },
          "metadata": {},
          "execution_count": 26
        }
      ]
    },
    {
      "cell_type": "code",
      "source": [
        "#defaultdict 활용: 빈 리스트를 기본값\n",
        "de_di = collections.defaultdict(list)\n",
        "score = [['math', 60], ['korean', 40], ['math', 93], ['english', 100], ['math', 54], ['english', 67]]\n",
        "for i in score:\n",
        "  de_di[i[0]].append(i[1])\n",
        "print(de_di.items())"
      ],
      "metadata": {
        "colab": {
          "base_uri": "https://localhost:8080/"
        },
        "id": "1DvTySv1AutG",
        "outputId": "0df7a446-bb8b-460e-de11-f61aa7502944"
      },
      "execution_count": null,
      "outputs": [
        {
          "output_type": "stream",
          "name": "stdout",
          "text": [
            "dict_items([('math', [60, 93, 54]), ('korean', [40]), ('english', [100, 67])])\n"
          ]
        }
      ]
    },
    {
      "cell_type": "markdown",
      "source": [
        "## **Counter module**\n",
        "\n",
        "---\n",
        "\n"
      ],
      "metadata": {
        "id": "bEasm4x7CFaT"
      }
    },
    {
      "cell_type": "code",
      "source": [
        "#Counter: 시퀀스 자료형의 element 개수 세기\n",
        "print(collections.Counter('Hello World!, Hello everyone!'))\n",
        "print(collections.Counter('Hello World!, Hello everyone!'.split()))\n",
        "\n",
        "first = collections.Counter('asdgvdfbdfbtefhblkjefewljrw')\n",
        "second = collections.Counter('asfkdljslfvbdsvjkb nljierqhgtuirwh')\n",
        "print(first,'\\n', second)\n",
        "\n",
        "first.subtract(second)\n",
        "print(first)"
      ],
      "metadata": {
        "colab": {
          "base_uri": "https://localhost:8080/"
        },
        "id": "_R1cSRdvCNTb",
        "outputId": "d66b6087-dff8-4dbc-c589-d6fd15ebb65f"
      },
      "execution_count": null,
      "outputs": [
        {
          "output_type": "stream",
          "name": "stdout",
          "text": [
            "Counter({'e': 5, 'l': 5, 'o': 4, ' ': 3, 'H': 2, 'r': 2, '!': 2, 'W': 1, 'd': 1, ',': 1, 'v': 1, 'y': 1, 'n': 1})\n",
            "Counter({'Hello': 2, 'World!,': 1, 'everyone!': 1})\n",
            "Counter({'f': 4, 'd': 3, 'b': 3, 'e': 3, 'l': 2, 'j': 2, 'w': 2, 'a': 1, 's': 1, 'g': 1, 'v': 1, 't': 1, 'h': 1, 'k': 1, 'r': 1}) \n",
            " Counter({'s': 3, 'l': 3, 'j': 3, 'f': 2, 'k': 2, 'd': 2, 'v': 2, 'b': 2, 'i': 2, 'r': 2, 'h': 2, 'a': 1, ' ': 1, 'n': 1, 'e': 1, 'q': 1, 'g': 1, 't': 1, 'u': 1, 'w': 1})\n",
            "Counter({'f': 2, 'e': 2, 'd': 1, 'b': 1, 'w': 1, 'a': 0, 'g': 0, 't': 0, 'v': -1, 'h': -1, 'l': -1, 'k': -1, 'j': -1, 'r': -1, ' ': -1, 'n': -1, 'q': -1, 'u': -1, 's': -2, 'i': -2})\n"
          ]
        }
      ]
    }
  ]
}