{
  "nbformat": 4,
  "nbformat_minor": 0,
  "metadata": {
    "colab": {
      "provenance": [],
      "authorship_tag": "ABX9TyNuCFAkbf9hiJdB6AJYGr1k",
      "include_colab_link": true
    },
    "kernelspec": {
      "name": "python3",
      "display_name": "Python 3"
    },
    "language_info": {
      "name": "python"
    }
  },
  "cells": [
    {
      "cell_type": "markdown",
      "metadata": {
        "id": "view-in-github",
        "colab_type": "text"
      },
      "source": [
        "<a href=\"https://colab.research.google.com/github/orangNLP/Modules_practice/blob/main/pytorch/pytorch_Mini_Batch_%26_Data_Load.ipynb\" target=\"_parent\"><img src=\"https://colab.research.google.com/assets/colab-badge.svg\" alt=\"Open In Colab\"/></a>"
      ]
    },
    {
      "cell_type": "code",
      "source": [
        "import torch\n",
        "import torch.nn as nn\n",
        "import torch.nn.functional as F"
      ],
      "metadata": {
        "id": "EOFAMtIph3IB"
      },
      "execution_count": null,
      "outputs": []
    },
    {
      "cell_type": "code",
      "execution_count": null,
      "metadata": {
        "id": "Qn66px_egJ2H"
      },
      "outputs": [],
      "source": [
        "x_train = torch.FloatTensor([[73, 80, 75], #(5,3)\n",
        "                             [93, 88, 93],\n",
        "                             [89, 91, 90],\n",
        "                             [96, 98, 100],\n",
        "                             [73, 66, 70]])\n",
        "y_train = torch.FloatTensor([[152], [185], [180], [196], [142]]) #(1,5)"
      ]
    },
    {
      "cell_type": "code",
      "source": [
        "from torch.utils.data import TensorDataset\n",
        "from torch.utils.data import DataLoader"
      ],
      "metadata": {
        "id": "L_9nrF77iC0B"
      },
      "execution_count": null,
      "outputs": []
    },
    {
      "cell_type": "code",
      "source": [
        "dataset = TensorDataset(x_train, y_train)\n"
      ],
      "metadata": {
        "id": "fG6pjy3iid5V"
      },
      "execution_count": null,
      "outputs": []
    },
    {
      "cell_type": "code",
      "source": [
        "dataloader = DataLoader(dataset, batch_size = 2, shuffle = True)"
      ],
      "metadata": {
        "id": "scEWBv01inL7"
      },
      "execution_count": null,
      "outputs": []
    },
    {
      "cell_type": "code",
      "source": [
        "model = nn.Linear(3,1)\n",
        "optimizer = torch.optim.SGD(model.parameters(), lr = 1e-5)"
      ],
      "metadata": {
        "id": "Ev58DF1Fi7Rk"
      },
      "execution_count": null,
      "outputs": []
    },
    {
      "cell_type": "code",
      "source": [
        "nb_epochs = 20\n",
        "for epoch in range(nb_epochs + 1):\n",
        "  for batch_idx, samples in enumerate(dataloader):\n",
        "    x_train, y_train = samples\n",
        "    \n",
        "    Hx = model(x_train)\n",
        "\n",
        "    loss_function = F.mse_loss(Hx, y_train)\n",
        "\n",
        "    optimizer.zero_grad()\n",
        "    loss_function.backward()\n",
        "    optimizer.step()\n",
        "\n",
        "    print('Epoch {:4d}/{} Batch {}/{} Cost: {:.6f}'.format(\n",
        "        epoch, nb_epochs, batch_idx+1, len(dataloader),\n",
        "        loss_function.item()))"
      ],
      "metadata": {
        "colab": {
          "base_uri": "https://localhost:8080/"
        },
        "id": "impnkQc1jKDd",
        "outputId": "7e76867d-5661-43b0-d2bd-210e08e215e0"
      },
      "execution_count": null,
      "outputs": [
        {
          "output_type": "stream",
          "name": "stdout",
          "text": [
            "Epoch    0/20 Batch 1/3 Cost: 3232.834229\n",
            "Epoch    0/20 Batch 2/3 Cost: 1359.798340\n",
            "Epoch    0/20 Batch 3/3 Cost: 210.537720\n",
            "Epoch    1/20 Batch 1/3 Cost: 143.914459\n",
            "Epoch    1/20 Batch 2/3 Cost: 33.184315\n",
            "Epoch    1/20 Batch 3/3 Cost: 5.824677\n",
            "Epoch    2/20 Batch 1/3 Cost: 7.216097\n",
            "Epoch    2/20 Batch 2/3 Cost: 0.135182\n",
            "Epoch    2/20 Batch 3/3 Cost: 8.698431\n",
            "Epoch    3/20 Batch 1/3 Cost: 0.686336\n",
            "Epoch    3/20 Batch 2/3 Cost: 1.933737\n",
            "Epoch    3/20 Batch 3/3 Cost: 6.069965\n",
            "Epoch    4/20 Batch 1/3 Cost: 0.878145\n",
            "Epoch    4/20 Batch 2/3 Cost: 3.461931\n",
            "Epoch    4/20 Batch 3/3 Cost: 0.266956\n",
            "Epoch    5/20 Batch 1/3 Cost: 0.717195\n",
            "Epoch    5/20 Batch 2/3 Cost: 2.291249\n",
            "Epoch    5/20 Batch 3/3 Cost: 3.560802\n",
            "Epoch    6/20 Batch 1/3 Cost: 1.620100\n",
            "Epoch    6/20 Batch 2/3 Cost: 2.623877\n",
            "Epoch    6/20 Batch 3/3 Cost: 2.703279\n",
            "Epoch    7/20 Batch 1/3 Cost: 0.040240\n",
            "Epoch    7/20 Batch 2/3 Cost: 3.736011\n",
            "Epoch    7/20 Batch 3/3 Cost: 2.306101\n",
            "Epoch    8/20 Batch 1/3 Cost: 0.766087\n",
            "Epoch    8/20 Batch 2/3 Cost: 3.338468\n",
            "Epoch    8/20 Batch 3/3 Cost: 1.312503\n",
            "Epoch    9/20 Batch 1/3 Cost: 1.566036\n",
            "Epoch    9/20 Batch 2/3 Cost: 2.136594\n",
            "Epoch    9/20 Batch 3/3 Cost: 3.553089\n",
            "Epoch   10/20 Batch 1/3 Cost: 3.698603\n",
            "Epoch   10/20 Batch 2/3 Cost: 1.130144\n",
            "Epoch   10/20 Batch 3/3 Cost: 0.456000\n",
            "Epoch   11/20 Batch 1/3 Cost: 1.077236\n",
            "Epoch   11/20 Batch 2/3 Cost: 1.396327\n",
            "Epoch   11/20 Batch 3/3 Cost: 6.390012\n",
            "Epoch   12/20 Batch 1/3 Cost: 0.806791\n",
            "Epoch   12/20 Batch 2/3 Cost: 3.325129\n",
            "Epoch   12/20 Batch 3/3 Cost: 1.282124\n",
            "Epoch   13/20 Batch 1/3 Cost: 0.485992\n",
            "Epoch   13/20 Batch 2/3 Cost: 3.576344\n",
            "Epoch   13/20 Batch 3/3 Cost: 0.948674\n",
            "Epoch   14/20 Batch 1/3 Cost: 3.346154\n",
            "Epoch   14/20 Batch 2/3 Cost: 0.922788\n",
            "Epoch   14/20 Batch 3/3 Cost: 0.151659\n",
            "Epoch   15/20 Batch 1/3 Cost: 3.108416\n",
            "Epoch   15/20 Batch 2/3 Cost: 1.195386\n",
            "Epoch   15/20 Batch 3/3 Cost: 2.669267\n",
            "Epoch   16/20 Batch 1/3 Cost: 0.241520\n",
            "Epoch   16/20 Batch 2/3 Cost: 6.006010\n",
            "Epoch   16/20 Batch 3/3 Cost: 0.192409\n",
            "Epoch   17/20 Batch 1/3 Cost: 0.232522\n",
            "Epoch   17/20 Batch 2/3 Cost: 3.614076\n",
            "Epoch   17/20 Batch 3/3 Cost: 4.216287\n",
            "Epoch   18/20 Batch 1/3 Cost: 0.383169\n",
            "Epoch   18/20 Batch 2/3 Cost: 3.805502\n",
            "Epoch   18/20 Batch 3/3 Cost: 1.872249\n",
            "Epoch   19/20 Batch 1/3 Cost: 1.771493\n",
            "Epoch   19/20 Batch 2/3 Cost: 4.448130\n",
            "Epoch   19/20 Batch 3/3 Cost: 0.051760\n",
            "Epoch   20/20 Batch 1/3 Cost: 0.116163\n",
            "Epoch   20/20 Batch 2/3 Cost: 3.904573\n",
            "Epoch   20/20 Batch 3/3 Cost: 3.961701\n"
          ]
        }
      ]
    },
    {
      "cell_type": "code",
      "source": [
        "new_var = torch.FloatTensor([53,31,64])\n",
        "pred_y = model(new_var)\n",
        "print (pred_y)"
      ],
      "metadata": {
        "colab": {
          "base_uri": "https://localhost:8080/"
        },
        "id": "yTbw0jCMrjYp",
        "outputId": "5ce2a9db-ed86-4549-d34b-4d1f48992bf7"
      },
      "execution_count": null,
      "outputs": [
        {
          "output_type": "stream",
          "name": "stdout",
          "text": [
            "tensor([104.2995], grad_fn=<AddBackward0>)\n"
          ]
        }
      ]
    },
    {
      "cell_type": "code",
      "source": [
        "  list(model.parameters())"
      ],
      "metadata": {
        "colab": {
          "base_uri": "https://localhost:8080/"
        },
        "id": "uuGrdOl7r3OS",
        "outputId": "fe5251fa-a84a-4fc6-863c-c920d24a3b9c"
      },
      "execution_count": null,
      "outputs": [
        {
          "output_type": "execute_result",
          "data": {
            "text/plain": [
              "[Parameter containing:\n",
              " tensor([[0.5132, 0.5512, 0.9317]], requires_grad=True), Parameter containing:\n",
              " tensor([0.3797], requires_grad=True)]"
            ]
          },
          "metadata": {},
          "execution_count": 33
        }
      ]
    }
  ]
}