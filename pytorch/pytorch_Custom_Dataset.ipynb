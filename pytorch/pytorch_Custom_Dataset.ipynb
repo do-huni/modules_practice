{
  "nbformat": 4,
  "nbformat_minor": 0,
  "metadata": {
    "colab": {
      "provenance": [],
      "authorship_tag": "ABX9TyNA1ZxqdzQL7hH9K18gq3p+",
      "include_colab_link": true
    },
    "kernelspec": {
      "name": "python3",
      "display_name": "Python 3"
    },
    "language_info": {
      "name": "python"
    }
  },
  "cells": [
    {
      "cell_type": "markdown",
      "metadata": {
        "id": "view-in-github",
        "colab_type": "text"
      },
      "source": [
        "<a href=\"https://colab.research.google.com/github/orangNLP/Modules_practice/blob/main/pytorch/pytorch_Custom_Dataset.ipynb\" target=\"_parent\"><img src=\"https://colab.research.google.com/assets/colab-badge.svg\" alt=\"Open In Colab\"/></a>"
      ]
    },
    {
      "cell_type": "code",
      "execution_count": 2,
      "metadata": {
        "id": "pIljKqhQsTgx"
      },
      "outputs": [],
      "source": [
        "import torch\n",
        "import torch.nn.functional as F\n",
        "from torch.utils.data import Dataset\n",
        "from torch.utils.data import DataLoader"
      ]
    },
    {
      "cell_type": "code",
      "source": [
        "class CustomDataset(torch.utils.data.Dataset):\n",
        "  def __init__(self):\n",
        "  #데이터셋 전처리\n",
        "    self.x_data = [[73, 80, 75],\n",
        "                   [93, 88, 93],\n",
        "                   [89, 91, 90],\n",
        "                   [96, 98, 100],\n",
        "                   [73, 66, 70]]\n",
        "    self.y_data = [[152], [185], [180], [196], [142]]\n",
        "\n",
        "\n",
        "  def __len__(self):\n",
        "  #데이터셋 길이 측정\n",
        "    return len(self.x_data)\n",
        "  def __getitem__(self, idx):\n",
        "  #데이터셋에서 특정 item 1개를 가져오는 함수\n",
        "    x = torch.FloatTensor(self.x_data[idx])\n",
        "    y = torch.FloatTensor(self.y_data[idx])\n",
        "    return x,y"
      ],
      "metadata": {
        "id": "IK_n5KUJsc_c"
      },
      "execution_count": 7,
      "outputs": []
    },
    {
      "cell_type": "code",
      "source": [
        "dataset = CustomDataset()\n",
        "dataloader = DataLoader(dataset, batch_size = 2, shuffle = True)"
      ],
      "metadata": {
        "id": "eMbcMU8GyLpo"
      },
      "execution_count": 10,
      "outputs": []
    },
    {
      "cell_type": "code",
      "source": [
        "for i in enumerate(dataloader):\n",
        "  print(i)"
      ],
      "metadata": {
        "colab": {
          "base_uri": "https://localhost:8080/"
        },
        "id": "GQmtKonYyqQC",
        "outputId": "d9f2c409-3a3f-46ff-fe4a-2d81f883d9a0"
      },
      "execution_count": 16,
      "outputs": [
        {
          "output_type": "stream",
          "name": "stdout",
          "text": [
            "(0, [tensor([[ 73.,  66.,  70.],\n",
            "        [ 96.,  98., 100.]]), tensor([[142.],\n",
            "        [196.]])])\n",
            "(1, [tensor([[93., 88., 93.],\n",
            "        [73., 80., 75.]]), tensor([[185.],\n",
            "        [152.]])])\n",
            "(2, [tensor([[89., 91., 90.]]), tensor([[180.]])])\n"
          ]
        }
      ]
    },
    {
      "cell_type": "code",
      "source": [
        "model = torch.nn.Linear(3,1)\n",
        "optimizer = torch.optim.SGD(model.parameters(), lr = 1e-5)\n",
        "epochs = 20\n",
        "for epoch in range(epochs +1):\n",
        "  for batch_idx, samples in enumerate(dataloader):\n",
        "    Hx = model(samples[0])\n",
        "    loss_function = F.mse_loss(Hx, samples[1])\n",
        "    \n",
        "    optimizer.zero_grad()\n",
        "    loss_function.backward()\n",
        "    optimizer.step()"
      ],
      "metadata": {
        "id": "DOXbMFM3yabF"
      },
      "execution_count": 20,
      "outputs": []
    },
    {
      "cell_type": "code",
      "source": [
        "examples = torch.FloatTensor([32,12,45])\n",
        "preds = model(examples)\n",
        "preds"
      ],
      "metadata": {
        "colab": {
          "base_uri": "https://localhost:8080/"
        },
        "id": "fYoqcylm0Hd-",
        "outputId": "348398df-a67c-4567-b307-cdb9e2104f02"
      },
      "execution_count": 21,
      "outputs": [
        {
          "output_type": "execute_result",
          "data": {
            "text/plain": [
              "tensor([45.5617], grad_fn=<AddBackward0>)"
            ]
          },
          "metadata": {},
          "execution_count": 21
        }
      ]
    }
  ]
}